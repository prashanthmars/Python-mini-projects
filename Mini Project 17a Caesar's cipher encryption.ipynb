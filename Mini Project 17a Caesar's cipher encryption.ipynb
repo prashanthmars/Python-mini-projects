{
 "cells": [
  {
   "cell_type": "markdown",
   "metadata": {},
   "source": [
    "## Encryption Function\n",
    "Shifts the alphabet set by a set units"
   ]
  },
  {
   "cell_type": "code",
   "execution_count": 2,
   "metadata": {},
   "outputs": [],
   "source": [
    "def encrypt(text,shift):\n",
    "    '''\n",
    "    INPUT: text as a string and an integer for the shift value.\n",
    "    OUTPUT: The shifted text after being run through the Caeser cipher.\n",
    "    '''\n",
    "    \n",
    "    # Create a normal plain alphabet\n",
    "    import string\n",
    "    alphabet = list(string.ascii_lowercase)\n",
    "    #print(alphabet)\n",
    "    #print(list(alphabet))\n",
    "    # Create a shifted version of this alphabet\n",
    "    new=list(alphabet[len(alphabet)-shift:len(alphabet)]+(alphabet[0:len(alphabet)-shift]))\n",
    "    #print(new)\n",
    "    # (Try slicing using the shift and then reconcatenating the two parts)\n",
    "    \n",
    "    # Use a for loop to go through each character in the original message.\n",
    "    # Then figure out its index match in the shifted alphabet and replace.\n",
    "    # It might be helpful to create an output variable to hold the new message.\n",
    "    \n",
    "    outputtext=[]\n",
    "    text=text.lower()\n",
    "    for inputchar in text:\n",
    "        if inputchar.isalpha():\n",
    "            #print(new.index(inputchar))\n",
    "            outputtext.append(alphabet[new.index(inputchar)])\n",
    "        else:\n",
    "            outputtext.append(inputchar)\n",
    "    \n",
    "    # Keep in mind you may want to skip punctuation with an if statement.\n",
    "    \n",
    "    # Return the shifted message. Use ''.join() method\n",
    "    return (''.join(outputtext))\n",
    "    # if you still have it as a list."
   ]
  },
  {
   "cell_type": "markdown",
   "metadata": {},
   "source": [
    "** An example input and output: **"
   ]
  },
  {
   "cell_type": "code",
   "execution_count": 3,
   "metadata": {},
   "outputs": [
    {
     "data": {
      "text/plain": [
       "'uryyb rneguyvatf, guvf vf sebz n sevraqyl cynarg va naqebzrqn'"
      ]
     },
     "execution_count": 3,
     "metadata": {},
     "output_type": "execute_result"
    }
   ],
   "source": [
    "encrypt('Hello earthlings, this is from a friendly planet in Andromeda',13)"
   ]
  },
  {
   "cell_type": "code",
   "execution_count": null,
   "metadata": {},
   "outputs": [],
   "source": []
  }
 ],
 "metadata": {
  "kernelspec": {
   "display_name": "Python 3",
   "language": "python",
   "name": "python3"
  },
  "language_info": {
   "codemirror_mode": {
    "name": "ipython",
    "version": 3
   },
   "file_extension": ".py",
   "mimetype": "text/x-python",
   "name": "python",
   "nbconvert_exporter": "python",
   "pygments_lexer": "ipython3",
   "version": "3.6.5"
  }
 },
 "nbformat": 4,
 "nbformat_minor": 2
}
