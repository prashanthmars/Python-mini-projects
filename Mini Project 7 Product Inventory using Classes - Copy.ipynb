{
 "cells": [
  {
   "cell_type": "markdown",
   "metadata": {},
   "source": [
    "## Product Inventory Project - Create an application which manages an inventory of products. Create a product class which has a price, id, and quantity on hand. Then create an inventory class which keeps track of various products and can sum up the inventory value."
   ]
  },
  {
   "cell_type": "code",
   "execution_count": 173,
   "metadata": {},
   "outputs": [],
   "source": [
    "#create a class Product that has name,code,price and quantity\n",
    "#initiatize default values of price and quantity to be 0\n",
    "\n",
    "class Product:\n",
    "    def __init__(self,productname,productcode,price=0,quantity=0):\n",
    "        self.productname = productname\n",
    "        self.productcode = productcode\n",
    "        self.price = price\n",
    "        self.quantity = quantity\n",
    "        \n",
    "    def __str__(self):\n",
    "        return f'productname:   {self.productname}\\nproductcode:   {self.productcode}\\nprice : ${self.price} \\nquantity : {self.quantity}'\n"
   ]
  },
  {
   "cell_type": "code",
   "execution_count": 174,
   "metadata": {},
   "outputs": [],
   "source": [
    "#test with an example with a soap product\n",
    "pd1=Product('Dove Soap','SOAP01',10.5,100)"
   ]
  },
  {
   "cell_type": "code",
   "execution_count": 175,
   "metadata": {},
   "outputs": [
    {
     "data": {
      "text/plain": [
       "<__main__.Product at 0x281f1c38a90>"
      ]
     },
     "execution_count": 175,
     "metadata": {},
     "output_type": "execute_result"
    }
   ],
   "source": [
    "pd1"
   ]
  },
  {
   "cell_type": "code",
   "execution_count": 176,
   "metadata": {},
   "outputs": [
    {
     "name": "stdout",
     "output_type": "stream",
     "text": [
      "productname:   Dove Soap\n",
      "productcode:   SOAP01\n",
      "price : $10.5 \n",
      "quantity : 100\n"
     ]
    }
   ],
   "source": [
    "print(pd1)"
   ]
  },
  {
   "cell_type": "code",
   "execution_count": 255,
   "metadata": {},
   "outputs": [],
   "source": [
    "#Create an inventory class that will help in management of the overall inventory\n",
    "#addition of inventory and withdrawal will happen only with the inventory object\n",
    "\n",
    "class Inventory:\n",
    "    def __init__(self):\n",
    "        self.product = {}\n",
    "        self.inventory = 0\n",
    "        \n",
    "        \n",
    "    def __str__(self):\n",
    "        return f'product:   {self.product}\\ninventory:   {self.inventory}'\n",
    "    \n",
    "    def addproduct(self,product):\n",
    "        self.product[product.productname]={'productcode':product.productcode,'price':product.price,'quantity':product.quantity}\n",
    "        print('Inventory Added')\n",
    "        \n",
    "    def addinventory(self,productname,dep_qty):\n",
    "        self.product[productname]['quantity'] +=dep_qty\n",
    "        print('Inventory Added')\n",
    "        \n",
    "    def withdrawinventory(self,productname,wd_qty):\n",
    "        if self.product[productname]['quantity'] >= wd_qty:\n",
    "            self.product[productname]['quantity'] -= wd_qty\n",
    "            print('Withdrawal Accepted')\n",
    "        else:\n",
    "            print('Inventory Unavailable!')\n",
    "            \n",
    "    def changeprice(self,productname,newprice):\n",
    "        self.product[productname]['price'] +=newprice\n",
    "        print('Price Changed')\n",
    "        \n",
    "    def totalinventorycount(self):\n",
    "        print (sum([self.product[x]['quantity'] for x in self.product]))\n"
   ]
  },
  {
   "cell_type": "code",
   "execution_count": 256,
   "metadata": {},
   "outputs": [],
   "source": [
    "#Create an example with inv1 as an inventory object\n",
    "inv1=Inventory()"
   ]
  },
  {
   "cell_type": "code",
   "execution_count": 257,
   "metadata": {},
   "outputs": [
    {
     "name": "stdout",
     "output_type": "stream",
     "text": [
      "Inventory Added\n"
     ]
    }
   ],
   "source": [
    "#add the soap product to the inventory\n",
    "inv1.addproduct(pd1)"
   ]
  },
  {
   "cell_type": "code",
   "execution_count": 258,
   "metadata": {},
   "outputs": [
    {
     "name": "stdout",
     "output_type": "stream",
     "text": [
      "product:   {'Dove Soap': {'productcode': 'SOAP01', 'price': 10.5, 'quantity': 100}}\n",
      "inventory:   0\n"
     ]
    }
   ],
   "source": [
    "print(inv1)"
   ]
  },
  {
   "cell_type": "code",
   "execution_count": 259,
   "metadata": {},
   "outputs": [],
   "source": [
    "#Add 2 more products to our inventory\n",
    "#Notice that for Rexona, I have not given the quantity\n",
    "#Also for Hamam, I have not mentioned the price\n",
    "pd2=Product('Rexona','SOAP02',8.5)\n",
    "pd3=Product('Hamam','SOAP03',quantity=1000)"
   ]
  },
  {
   "cell_type": "code",
   "execution_count": 260,
   "metadata": {},
   "outputs": [
    {
     "name": "stdout",
     "output_type": "stream",
     "text": [
      "Inventory Added\n",
      "Inventory Added\n"
     ]
    }
   ],
   "source": [
    "inv1.addproduct(pd2)\n",
    "inv1.addproduct(pd3)\n"
   ]
  },
  {
   "cell_type": "code",
   "execution_count": 261,
   "metadata": {},
   "outputs": [
    {
     "name": "stdout",
     "output_type": "stream",
     "text": [
      "100\n"
     ]
    }
   ],
   "source": [
    "#Access each specific attribute of a product within the inventory using nested dictionaries\n",
    "print(inv1.product['Dove Soap']['quantity'])"
   ]
  },
  {
   "cell_type": "code",
   "execution_count": 262,
   "metadata": {},
   "outputs": [
    {
     "name": "stdout",
     "output_type": "stream",
     "text": [
      "product:   {'Dove Soap': {'productcode': 'SOAP01', 'price': 10.5, 'quantity': 100}, 'Rexona': {'productcode': 'SOAP02', 'price': 8.5, 'quantity': 0}, 'Hamam': {'productcode': 'SOAP03', 'price': 0, 'quantity': 1000}}\n",
      "inventory:   0\n"
     ]
    }
   ],
   "source": [
    "print(inv1)"
   ]
  },
  {
   "cell_type": "code",
   "execution_count": 263,
   "metadata": {},
   "outputs": [
    {
     "name": "stdout",
     "output_type": "stream",
     "text": [
      "Inventory Added\n"
     ]
    }
   ],
   "source": [
    "#add a few soaps\n",
    "inv1.addinventory('Dove Soap',100)"
   ]
  },
  {
   "cell_type": "code",
   "execution_count": 264,
   "metadata": {},
   "outputs": [
    {
     "name": "stdout",
     "output_type": "stream",
     "text": [
      "product:   {'Dove Soap': {'productcode': 'SOAP01', 'price': 10.5, 'quantity': 200}, 'Rexona': {'productcode': 'SOAP02', 'price': 8.5, 'quantity': 0}, 'Hamam': {'productcode': 'SOAP03', 'price': 0, 'quantity': 1000}}\n",
      "inventory:   0\n"
     ]
    }
   ],
   "source": [
    "print(inv1)"
   ]
  },
  {
   "cell_type": "code",
   "execution_count": 265,
   "metadata": {},
   "outputs": [
    {
     "name": "stdout",
     "output_type": "stream",
     "text": [
      "Withdrawal Accepted\n"
     ]
    }
   ],
   "source": [
    "#withdraw a few soaps\n",
    "inv1.withdrawinventory('Hamam',250)"
   ]
  },
  {
   "cell_type": "code",
   "execution_count": 266,
   "metadata": {},
   "outputs": [
    {
     "name": "stdout",
     "output_type": "stream",
     "text": [
      "product:   {'Dove Soap': {'productcode': 'SOAP01', 'price': 10.5, 'quantity': 200}, 'Rexona': {'productcode': 'SOAP02', 'price': 8.5, 'quantity': 0}, 'Hamam': {'productcode': 'SOAP03', 'price': 0, 'quantity': 750}}\n",
      "inventory:   0\n"
     ]
    }
   ],
   "source": [
    "print(inv1)"
   ]
  },
  {
   "cell_type": "code",
   "execution_count": 267,
   "metadata": {},
   "outputs": [
    {
     "name": "stdout",
     "output_type": "stream",
     "text": [
      "Price Changed\n"
     ]
    }
   ],
   "source": [
    "#update the price of Hamam\n",
    "inv1.changeprice('Hamam',10)"
   ]
  },
  {
   "cell_type": "code",
   "execution_count": 268,
   "metadata": {},
   "outputs": [
    {
     "name": "stdout",
     "output_type": "stream",
     "text": [
      "product:   {'Dove Soap': {'productcode': 'SOAP01', 'price': 10.5, 'quantity': 200}, 'Rexona': {'productcode': 'SOAP02', 'price': 8.5, 'quantity': 0}, 'Hamam': {'productcode': 'SOAP03', 'price': 10, 'quantity': 750}}\n",
      "inventory:   0\n"
     ]
    }
   ],
   "source": [
    "print(inv1)"
   ]
  },
  {
   "cell_type": "code",
   "execution_count": 270,
   "metadata": {},
   "outputs": [
    {
     "name": "stdout",
     "output_type": "stream",
     "text": [
      "950\n"
     ]
    }
   ],
   "source": [
    "inv1.totalinventorycount()"
   ]
  },
  {
   "cell_type": "code",
   "execution_count": null,
   "metadata": {},
   "outputs": [],
   "source": []
  }
 ],
 "metadata": {
  "kernelspec": {
   "display_name": "Python 3",
   "language": "python",
   "name": "python3"
  },
  "language_info": {
   "codemirror_mode": {
    "name": "ipython",
    "version": 3
   },
   "file_extension": ".py",
   "mimetype": "text/x-python",
   "name": "python",
   "nbconvert_exporter": "python",
   "pygments_lexer": "ipython3",
   "version": "3.6.5"
  }
 },
 "nbformat": 4,
 "nbformat_minor": 2
}
