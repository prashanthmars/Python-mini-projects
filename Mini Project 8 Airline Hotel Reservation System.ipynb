{
 "cells": [
  {
   "cell_type": "markdown",
   "metadata": {},
   "source": [
    "## Airline / Hotel Reservation System - Create a reservation system which books airline seats or hotel rooms. It charges various rates for particular sections of the plane or hotel. Example, first class is going to cost more than coach. Hotel rooms have penthouse suites which cost more. Keep track of when rooms will be available and can be scheduled."
   ]
  },
  {
   "cell_type": "code",
   "execution_count": 499,
   "metadata": {},
   "outputs": [],
   "source": [
    "import datetime as dt\n",
    "\n",
    "class aeroplanes:\n",
    "    def __init__(self,flightname,businessclass_total=0,economicclass_total=0):\n",
    "        self.flightname = flightname\n",
    "        self.businessclass_total = businessclass_total\n",
    "        self.economicclass_total = economicclass_total\n",
    "       \n",
    "    def __str__(self):\n",
    "        return f'flightname:   {self.flightname}\\nbusinessclass_total:   {self.businessclass_total}\\neconomicclass_total : {self.economicclass_total}'\n"
   ]
  },
  {
   "cell_type": "code",
   "execution_count": 500,
   "metadata": {},
   "outputs": [],
   "source": [
    "lufthansa1=aeroplanes('Luftansa 659E',100,300)\n",
    "lufthansa2=aeroplanes('Luftansa 625E',200,400)\n",
    "britishairways1=aeroplanes('British 252A',120,360)\n",
    "thaiairways1=aeroplanes('Thai airlines 656T',80,250)"
   ]
  },
  {
   "cell_type": "code",
   "execution_count": 501,
   "metadata": {},
   "outputs": [
    {
     "name": "stdout",
     "output_type": "stream",
     "text": [
      "flightname:   Luftansa 659E\n",
      "businessclass_total:   100\n",
      "economicclass_total : 300\n",
      "\n",
      "\n",
      "flightname:   Luftansa 625E\n",
      "businessclass_total:   200\n",
      "economicclass_total : 400\n",
      "\n",
      "\n",
      "flightname:   British 252A\n",
      "businessclass_total:   120\n",
      "economicclass_total : 360\n",
      "\n",
      "\n",
      "flightname:   Thai airlines 656T\n",
      "businessclass_total:   80\n",
      "economicclass_total : 250\n",
      "\n",
      "\n"
     ]
    }
   ],
   "source": [
    "print(lufthansa1)\n",
    "print('\\n')\n",
    "print(lufthansa2)\n",
    "print('\\n')\n",
    "print(britishairways1)\n",
    "print('\\n')\n",
    "print(thaiairways1)\n",
    "print('\\n')\n",
    "\n"
   ]
  },
  {
   "cell_type": "code",
   "execution_count": 502,
   "metadata": {},
   "outputs": [],
   "source": [
    "class hotels:\n",
    "    def __init__(self,hotelname,standard_total=0,deluxe_total=0,penthouse_total=0):\n",
    "        self.hotelname = hotelname\n",
    "        self.standard_total = standard_total\n",
    "        self.deluxe_total = deluxe_total\n",
    "        self.penthouse_total = penthouse_total        \n",
    "    def __str__(self):\n",
    "        return f'hotelname:   {self.hotelname}\\nstandard_total:   {self.standard_total}\\ndeluxe_total : {self.deluxe_total}\\npenthouse_total : {self.penthouse_total}'\n"
   ]
  },
  {
   "cell_type": "code",
   "execution_count": 503,
   "metadata": {},
   "outputs": [],
   "source": [
    "tajconnemarachennai=hotels('Taj Group: Connemara hotel, Chennai',100,300,50)\n",
    "parkhyattmelbourne=hotels('Park Hyatt: Clayton',0,500,100)\n",
    "holidayinntasmania=hotels('Holiday Inn: Tasmania',200,100,0)"
   ]
  },
  {
   "cell_type": "code",
   "execution_count": 504,
   "metadata": {},
   "outputs": [
    {
     "name": "stdout",
     "output_type": "stream",
     "text": [
      "hotelname:   Taj Group: Connemara hotel, Chennai\n",
      "standard_total:   100\n",
      "deluxe_total : 300\n",
      "penthouse_total : 50\n",
      "\n",
      "\n",
      "hotelname:   Park Hyatt: Clayton\n",
      "standard_total:   0\n",
      "deluxe_total : 500\n",
      "penthouse_total : 100\n",
      "\n",
      "\n",
      "hotelname:   Holiday Inn: Tasmania\n",
      "standard_total:   200\n",
      "deluxe_total : 100\n",
      "penthouse_total : 0\n",
      "\n",
      "\n"
     ]
    }
   ],
   "source": [
    "print(tajconnemarachennai)\n",
    "print('\\n')\n",
    "print(parkhyattmelbourne)\n",
    "print('\\n')\n",
    "print(holidayinntasmania)\n",
    "print('\\n')"
   ]
  },
  {
   "cell_type": "code",
   "execution_count": 505,
   "metadata": {},
   "outputs": [],
   "source": [
    "class reservations:\n",
    "    def __init__(self):\n",
    "        self.flightlist = {}\n",
    "        self.hotellist = {}\n",
    "        \n",
    "    def __str__(self):\n",
    "        return f'flightlist:   {self.flightlist}\\nhotellist:   {self.hotellist}\\n'\n",
    "    \n",
    "    #############FLIGHTS###################\n",
    "    def addflights(self,newflight):\n",
    "        self.flightlist[newflight.flightname]={'businessclass_total':newflight.businessclass_total,\n",
    "                                               'economicclass_total':newflight.economicclass_total,\n",
    "                                               'availability':{},\n",
    "                                              }\n",
    "    #assuming a common booking window for all airlines\n",
    "    def modifyavailability_flight(self,datelist):\n",
    "        for eachflightdetails in self.flightlist.keys():\n",
    "            print(eachflightdetails)\n",
    "            print(self.flightlist[eachflightdetails]['availability'])\n",
    "            for chosendate in datelist:\n",
    "                self.flightlist[eachflightdetails]['availability'][chosendate]={'businessclass_available':self.flightlist[eachflightdetails]['businessclass_total'],\n",
    "                                                                                'economicclass_available':self.flightlist[eachflightdetails]['economicclass_total']}\n",
    "            print(self.flightlist[eachflightdetails]['availability'])\n",
    "            \n",
    "    \n",
    "    # a basic inventory management is included below\n",
    "    # the dictionary can be enhanced further to contain the seat nos, passenger along with functions to\n",
    "    #send the email of confirmation along with a pdf generation of the booking\n",
    "    def book_flight(self,chosenflight,chosendate,seattype,noofseats):\n",
    "        try:\n",
    "            print(\"no of seats: available\")\n",
    "            print(self.flightlist[chosenflight]['availability'][chosendate][seattype])\n",
    "            self.flightlist[chosenflight]['availability'][chosendate][seattype]-=noofseats\n",
    "            print(\"no of seats: updated\")\n",
    "            print(self.flightlist[chosenflight]['availability'][chosendate][seattype])\n",
    "        except:\n",
    "            print('Flight not available for this chosen flight / chosen date')\n",
    "    \n",
    "    #############HOTELS###################\n",
    "    def addhotels(self,newhotel):\n",
    "        self.hotellist[newhotel.hotelname]={'standard_total':newhotel.standard_total,\n",
    "                                            'deluxe_total':newhotel.deluxe_total,\n",
    "                                            'penthouse_total':newhotel.penthouse_total,\n",
    "                                            'availability':{},\n",
    "                                           }\n",
    "        #assuming a common booking window for all airlines\n",
    "\n",
    "    def modifyavailability_hotels(self,datelist):\n",
    "        for eachhoteldetails in self.hotellist.keys():\n",
    "            print(eachhoteldetails)\n",
    "            print(self.hotellist[eachhoteldetails]['availability'])\n",
    "            for chosendate in datelist:\n",
    "                self.hotellist[eachhoteldetails]['availability'][chosendate]={'standard_available':self.hotellist[eachhoteldetails]['standard_total'],\n",
    "                                                                              'deluxe_available':self.hotellist[eachhoteldetails]['deluxe_total'],\n",
    "                                                                              'penthouse_available':self.hotellist[eachhoteldetails]['penthouse_total']\n",
    "                                                                             }\n",
    "            print(self.hotellist[eachhoteldetails]['availability'])\n",
    "            \n",
    "    \n",
    "    # a basic inventory management is included below\n",
    "    # the dictionary can be enhanced further to contain the seat nos, passenger along with functions to\n",
    "    #send the email of confirmation along with a pdf generation of the booking\n",
    "    def book_hotel(self,chosenhotel,chosendate,roomtype,noofrooms):\n",
    "        try:\n",
    "            print(\"no of rooms: available\")\n",
    "            print(self.hotellist[chosenhotel]['availability'][chosendate][roomtype])\n",
    "            self.hotellist[chosenhotel]['availability'][chosendate][roomtype]-=noofrooms\n",
    "            print(\"no of rooms: updated\")\n",
    "            print(self.hotellist[chosenhotel]['availability'][chosendate][roomtype])\n",
    "        except:\n",
    "            print('Hotel room not available for this chosen hotel / chosen date')\n",
    "   "
   ]
  },
  {
   "cell_type": "code",
   "execution_count": 506,
   "metadata": {},
   "outputs": [],
   "source": [
    "makemyjourney=reservations()"
   ]
  },
  {
   "cell_type": "code",
   "execution_count": 507,
   "metadata": {},
   "outputs": [
    {
     "name": "stdout",
     "output_type": "stream",
     "text": [
      "flightlist:   {}\n",
      "hotellist:   {}\n",
      "\n"
     ]
    }
   ],
   "source": [
    "print(makemyjourney)"
   ]
  },
  {
   "cell_type": "code",
   "execution_count": 508,
   "metadata": {},
   "outputs": [],
   "source": [
    "makemyjourney.addflights(lufthansa1)\n",
    "makemyjourney.addflights(thaiairways1)"
   ]
  },
  {
   "cell_type": "code",
   "execution_count": 509,
   "metadata": {},
   "outputs": [
    {
     "name": "stdout",
     "output_type": "stream",
     "text": [
      "flightlist:   {'Luftansa 659E': {'businessclass_total': 100, 'economicclass_total': 300, 'availability': {}}, 'Thai airlines 656T': {'businessclass_total': 80, 'economicclass_total': 250, 'availability': {}}}\n",
      "hotellist:   {}\n",
      "\n"
     ]
    }
   ],
   "source": [
    "print(makemyjourney)"
   ]
  },
  {
   "cell_type": "code",
   "execution_count": 510,
   "metadata": {},
   "outputs": [],
   "source": [
    "makemyjourney.addhotels(holidayinntasmania)"
   ]
  },
  {
   "cell_type": "code",
   "execution_count": 511,
   "metadata": {},
   "outputs": [
    {
     "name": "stdout",
     "output_type": "stream",
     "text": [
      "flightlist:   {'Luftansa 659E': {'businessclass_total': 100, 'economicclass_total': 300, 'availability': {}}, 'Thai airlines 656T': {'businessclass_total': 80, 'economicclass_total': 250, 'availability': {}}}\n",
      "hotellist:   {'Holiday Inn: Tasmania': {'standard_total': 200, 'deluxe_total': 100, 'penthouse_total': 0, 'availability': {}}}\n",
      "\n"
     ]
    }
   ],
   "source": [
    "print(makemyjourney)"
   ]
  },
  {
   "cell_type": "code",
   "execution_count": 512,
   "metadata": {},
   "outputs": [
    {
     "name": "stdout",
     "output_type": "stream",
     "text": [
      "Luftansa 659E\n",
      "{}\n",
      "{'2019-01-01': {'businessclass_available': 100, 'economicclass_available': 300}, '2019-01-02': {'businessclass_available': 100, 'economicclass_available': 300}, '2019-01-03': {'businessclass_available': 100, 'economicclass_available': 300}, '2019-01-04': {'businessclass_available': 100, 'economicclass_available': 300}, '2019-01-05': {'businessclass_available': 100, 'economicclass_available': 300}, '2019-01-06': {'businessclass_available': 100, 'economicclass_available': 300}, '2019-01-07': {'businessclass_available': 100, 'economicclass_available': 300}, '2019-01-08': {'businessclass_available': 100, 'economicclass_available': 300}, '2019-01-09': {'businessclass_available': 100, 'economicclass_available': 300}, '2019-01-10': {'businessclass_available': 100, 'economicclass_available': 300}}\n",
      "Thai airlines 656T\n",
      "{}\n",
      "{'2019-01-01': {'businessclass_available': 80, 'economicclass_available': 250}, '2019-01-02': {'businessclass_available': 80, 'economicclass_available': 250}, '2019-01-03': {'businessclass_available': 80, 'economicclass_available': 250}, '2019-01-04': {'businessclass_available': 80, 'economicclass_available': 250}, '2019-01-05': {'businessclass_available': 80, 'economicclass_available': 250}, '2019-01-06': {'businessclass_available': 80, 'economicclass_available': 250}, '2019-01-07': {'businessclass_available': 80, 'economicclass_available': 250}, '2019-01-08': {'businessclass_available': 80, 'economicclass_available': 250}, '2019-01-09': {'businessclass_available': 80, 'economicclass_available': 250}, '2019-01-10': {'businessclass_available': 80, 'economicclass_available': 250}}\n"
     ]
    }
   ],
   "source": [
    "#makemyjourney.modifyavailability_flight(['2018-01-10','2018-01-11'])\n",
    "#print([str(dt.date(2018,1,1) + dt.timedelta(a)) for a in range(10)])\n",
    "makemyjourney.modifyavailability_flight([str(dt.date(2019,1,1) + dt.timedelta(a)) for a in range(10)])"
   ]
  },
  {
   "cell_type": "code",
   "execution_count": 513,
   "metadata": {},
   "outputs": [
    {
     "name": "stdout",
     "output_type": "stream",
     "text": [
      "Holiday Inn: Tasmania\n",
      "{}\n",
      "{'2019-01-01': {'standard_available': 200, 'deluxe_available': 100, 'penthouse_available': 0}, '2019-01-02': {'standard_available': 200, 'deluxe_available': 100, 'penthouse_available': 0}, '2019-01-03': {'standard_available': 200, 'deluxe_available': 100, 'penthouse_available': 0}, '2019-01-04': {'standard_available': 200, 'deluxe_available': 100, 'penthouse_available': 0}, '2019-01-05': {'standard_available': 200, 'deluxe_available': 100, 'penthouse_available': 0}, '2019-01-06': {'standard_available': 200, 'deluxe_available': 100, 'penthouse_available': 0}, '2019-01-07': {'standard_available': 200, 'deluxe_available': 100, 'penthouse_available': 0}, '2019-01-08': {'standard_available': 200, 'deluxe_available': 100, 'penthouse_available': 0}, '2019-01-09': {'standard_available': 200, 'deluxe_available': 100, 'penthouse_available': 0}, '2019-01-10': {'standard_available': 200, 'deluxe_available': 100, 'penthouse_available': 0}}\n"
     ]
    }
   ],
   "source": [
    "makemyjourney.modifyavailability_hotels([str(dt.date(2019,1,1) + dt.timedelta(a)) for a in range(10)])"
   ]
  },
  {
   "cell_type": "code",
   "execution_count": 514,
   "metadata": {},
   "outputs": [
    {
     "name": "stdout",
     "output_type": "stream",
     "text": [
      "no of seats: available\n",
      "Flight not available for this chosen flight / chosen date\n",
      "--------------------------------\n",
      "no of seats: available\n",
      "80\n",
      "no of seats: updated\n",
      "78\n",
      "--------------------------------\n",
      "no of seats: available\n",
      "250\n",
      "no of seats: updated\n",
      "230\n"
     ]
    }
   ],
   "source": [
    "makemyjourney.book_flight('Thai airlines 656T','2017-01-01','businessclass_available',2)\n",
    "print('--------------------------------')\n",
    "makemyjourney.book_flight('Thai airlines 656T','2019-01-01','businessclass_available',2)\n",
    "print('--------------------------------')\n",
    "makemyjourney.book_flight('Thai airlines 656T','2019-01-02','economicclass_available',20)\n",
    "\n"
   ]
  },
  {
   "cell_type": "code",
   "execution_count": 515,
   "metadata": {},
   "outputs": [
    {
     "name": "stdout",
     "output_type": "stream",
     "text": [
      "no of rooms: available\n",
      "Hotel room not available for this chosen hotel / chosen date\n",
      "--------------------------------\n",
      "no of rooms: available\n",
      "200\n",
      "no of rooms: updated\n",
      "199\n",
      "--------------------------------\n",
      "no of rooms: available\n",
      "199\n",
      "no of rooms: updated\n",
      "189\n",
      "--------------------------------\n",
      "no of rooms: available\n",
      "200\n",
      "no of rooms: updated\n",
      "195\n",
      "--------------------------------\n",
      "no of rooms: available\n",
      "189\n",
      "no of rooms: updated\n",
      "194\n",
      "--------------------------------\n"
     ]
    }
   ],
   "source": [
    "makemyjourney.book_hotel('Holiday Inn: Tasmania','2017-01-01','standard_available',1)\n",
    "print('--------------------------------')\n",
    "makemyjourney.book_hotel('Holiday Inn: Tasmania','2019-01-01','standard_available',1)\n",
    "print('--------------------------------')\n",
    "makemyjourney.book_hotel('Holiday Inn: Tasmania','2019-01-01','standard_available',10)\n",
    "print('--------------------------------')\n",
    "makemyjourney.book_hotel('Holiday Inn: Tasmania','2019-01-02','standard_available',5)\n",
    "print('--------------------------------')\n",
    "#simulate cancellations\n",
    "makemyjourney.book_hotel('Holiday Inn: Tasmania','2019-01-01','standard_available',-5)\n",
    "print('--------------------------------')"
   ]
  },
  {
   "cell_type": "code",
   "execution_count": 516,
   "metadata": {},
   "outputs": [
    {
     "name": "stdout",
     "output_type": "stream",
     "text": [
      "flightlist:   {'Luftansa 659E': {'businessclass_total': 100, 'economicclass_total': 300, 'availability': {'2019-01-01': {'businessclass_available': 100, 'economicclass_available': 300}, '2019-01-02': {'businessclass_available': 100, 'economicclass_available': 300}, '2019-01-03': {'businessclass_available': 100, 'economicclass_available': 300}, '2019-01-04': {'businessclass_available': 100, 'economicclass_available': 300}, '2019-01-05': {'businessclass_available': 100, 'economicclass_available': 300}, '2019-01-06': {'businessclass_available': 100, 'economicclass_available': 300}, '2019-01-07': {'businessclass_available': 100, 'economicclass_available': 300}, '2019-01-08': {'businessclass_available': 100, 'economicclass_available': 300}, '2019-01-09': {'businessclass_available': 100, 'economicclass_available': 300}, '2019-01-10': {'businessclass_available': 100, 'economicclass_available': 300}}}, 'Thai airlines 656T': {'businessclass_total': 80, 'economicclass_total': 250, 'availability': {'2019-01-01': {'businessclass_available': 78, 'economicclass_available': 250}, '2019-01-02': {'businessclass_available': 80, 'economicclass_available': 230}, '2019-01-03': {'businessclass_available': 80, 'economicclass_available': 250}, '2019-01-04': {'businessclass_available': 80, 'economicclass_available': 250}, '2019-01-05': {'businessclass_available': 80, 'economicclass_available': 250}, '2019-01-06': {'businessclass_available': 80, 'economicclass_available': 250}, '2019-01-07': {'businessclass_available': 80, 'economicclass_available': 250}, '2019-01-08': {'businessclass_available': 80, 'economicclass_available': 250}, '2019-01-09': {'businessclass_available': 80, 'economicclass_available': 250}, '2019-01-10': {'businessclass_available': 80, 'economicclass_available': 250}}}}\n",
      "hotellist:   {'Holiday Inn: Tasmania': {'standard_total': 200, 'deluxe_total': 100, 'penthouse_total': 0, 'availability': {'2019-01-01': {'standard_available': 194, 'deluxe_available': 100, 'penthouse_available': 0}, '2019-01-02': {'standard_available': 195, 'deluxe_available': 100, 'penthouse_available': 0}, '2019-01-03': {'standard_available': 200, 'deluxe_available': 100, 'penthouse_available': 0}, '2019-01-04': {'standard_available': 200, 'deluxe_available': 100, 'penthouse_available': 0}, '2019-01-05': {'standard_available': 200, 'deluxe_available': 100, 'penthouse_available': 0}, '2019-01-06': {'standard_available': 200, 'deluxe_available': 100, 'penthouse_available': 0}, '2019-01-07': {'standard_available': 200, 'deluxe_available': 100, 'penthouse_available': 0}, '2019-01-08': {'standard_available': 200, 'deluxe_available': 100, 'penthouse_available': 0}, '2019-01-09': {'standard_available': 200, 'deluxe_available': 100, 'penthouse_available': 0}, '2019-01-10': {'standard_available': 200, 'deluxe_available': 100, 'penthouse_available': 0}}}}\n",
      "\n"
     ]
    }
   ],
   "source": [
    "print(makemyjourney)"
   ]
  },
  {
   "cell_type": "code",
   "execution_count": null,
   "metadata": {},
   "outputs": [],
   "source": []
  },
  {
   "cell_type": "code",
   "execution_count": null,
   "metadata": {},
   "outputs": [],
   "source": []
  },
  {
   "cell_type": "code",
   "execution_count": null,
   "metadata": {},
   "outputs": [],
   "source": []
  }
 ],
 "metadata": {
  "kernelspec": {
   "display_name": "Python 3",
   "language": "python",
   "name": "python3"
  },
  "language_info": {
   "codemirror_mode": {
    "name": "ipython",
    "version": 3
   },
   "file_extension": ".py",
   "mimetype": "text/x-python",
   "name": "python",
   "nbconvert_exporter": "python",
   "pygments_lexer": "ipython3",
   "version": "3.6.5"
  }
 },
 "nbformat": 4,
 "nbformat_minor": 2
}
