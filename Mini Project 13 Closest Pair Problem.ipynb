{
 "cells": [
  {
   "cell_type": "markdown",
   "metadata": {},
   "source": [
    "## Closest pair problem - The closest pair of points problem or closest pair problem is a problem of computational geometry: given n points in metric space, find a pair of points with the smallest distance between them."
   ]
  },
  {
   "cell_type": "code",
   "execution_count": 37,
   "metadata": {},
   "outputs": [
    {
     "name": "stdout",
     "output_type": "stream",
     "text": [
      "input points are:[(1, 2), (3, 4), (5, 6), (1, 5), (0, 0), (0, -1)]\n"
     ]
    }
   ],
   "source": [
    "inputpoints=[(1,2),(3,4),(5,6),(1,5),(0,0),(0,-1)]\n",
    "print(\"input points are:\"+str(inputpoints))"
   ]
  },
  {
   "cell_type": "code",
   "execution_count": 38,
   "metadata": {},
   "outputs": [
    {
     "name": "stdout",
     "output_type": "stream",
     "text": [
      "calculated distance for each point pairs are:[((1, 2), (3, 4), 2.83), ((1, 2), (5, 6), 5.66), ((1, 2), (1, 5), 3.0), ((1, 2), (0, 0), 2.24), ((1, 2), (0, -1), 3.16), ((3, 4), (5, 6), 2.83), ((3, 4), (1, 5), 2.24), ((3, 4), (0, 0), 5.0), ((3, 4), (0, -1), 5.83), ((5, 6), (1, 5), 4.12), ((5, 6), (0, 0), 7.81), ((5, 6), (0, -1), 8.6), ((1, 5), (0, 0), 5.1), ((1, 5), (0, -1), 6.08), ((0, 0), (0, -1), 1.0)]\n",
      "\n",
      "shortest distance pair amongst these points is:[((0, 0), (0, -1), 1.0)]\n"
     ]
    }
   ],
   "source": [
    "pointsdata=[]\n",
    "for i in range(len(inputpoints)-1):\n",
    "    for j in range(i+1,len(inputpoints)):\n",
    "        #cartesian coordinate distance formula is sqrt((y2-y1)^2 + (x2-x1)^2)\n",
    "        distance = round(((inputpoints[i][1]-inputpoints[j][1])**2+(inputpoints[i][0]-inputpoints[j][0])**2)**0.5,2)\n",
    "        pointsdata.append((inputpoints[i],inputpoints[j],distance))\n",
    "print(\"calculated distance for each point pairs are:\"+str(pointsdata)+\"\\n\")\n",
    "\n",
    "shortestdistance=min([x[2] for x in pointsdata])\n",
    "print(\"shortest distance pair amongst these points is:\"+str([x for x in pointsdata if x[2]==shortestdistance]))\n",
    "\n"
   ]
  },
  {
   "cell_type": "code",
   "execution_count": null,
   "metadata": {},
   "outputs": [],
   "source": []
  },
  {
   "cell_type": "code",
   "execution_count": null,
   "metadata": {},
   "outputs": [],
   "source": []
  }
 ],
 "metadata": {
  "kernelspec": {
   "display_name": "Python 3",
   "language": "python",
   "name": "python3"
  },
  "language_info": {
   "codemirror_mode": {
    "name": "ipython",
    "version": 3
   },
   "file_extension": ".py",
   "mimetype": "text/x-python",
   "name": "python",
   "nbconvert_exporter": "python",
   "pygments_lexer": "ipython3",
   "version": "3.6.5"
  }
 },
 "nbformat": 4,
 "nbformat_minor": 2
}
