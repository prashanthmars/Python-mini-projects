{
 "cells": [
  {
   "cell_type": "markdown",
   "metadata": {},
   "source": [
    "## Decryption\n",
    "\n",
    "This will \"decrypt\" a shifted message (Caesar's cipher)."
   ]
  },
  {
   "cell_type": "code",
   "execution_count": 1,
   "metadata": {},
   "outputs": [],
   "source": [
    "def decrypt(text,shift):\n",
    "    '''\n",
    "    INPUT: A shifted message and the integer shift value\n",
    "    OUTPUT: The plain text original message.\n",
    "    '''\n",
    "    \n",
    "    # Create a normal plain alphabet\n",
    "    import string\n",
    "    alphabet = list(string.ascii_lowercase)\n",
    "    # Create a shifted version of this alphabet with the shift value.\n",
    "    new=list(alphabet[len(alphabet)-shift:len(alphabet)]+(alphabet[0:len(alphabet)-shift]))\n",
    "    \n",
    "    # Use a for loop to go through each character in the encrypted message.\n",
    "    # Then figure out its index match in the plain alphabet and replace.\n",
    "    # It might be helpful to create an output variable to hold the new message.\n",
    "    outputtext=[]\n",
    "    text=text.lower()\n",
    "    for inputchar in text:\n",
    "        if inputchar.isalpha():\n",
    "            #print(new.index(inputchar))\n",
    "            outputtext.append(new[alphabet.index(inputchar)])\n",
    "        else:\n",
    "            outputtext.append(inputchar)\n",
    "    # Keep in mind you may want to skip punctuation with an if statement.\n",
    "    \n",
    "    # Return the original message. Use ''.join() method \n",
    "    # if you still have it as a list.\n",
    "    return (''.join(outputtext))"
   ]
  },
  {
   "cell_type": "markdown",
   "metadata": {},
   "source": [
    "** Here is an example output: **"
   ]
  },
  {
   "cell_type": "code",
   "execution_count": 4,
   "metadata": {},
   "outputs": [
    {
     "data": {
      "text/plain": [
       "'hello earthlings, this is from a friendly planet in andromeda'"
      ]
     },
     "execution_count": 4,
     "metadata": {},
     "output_type": "execute_result"
    }
   ],
   "source": [
    "decrypt('uryyb rneguyvatf, guvf vf sebz n sevraqyl cynarg va naqebzrqn',13)"
   ]
  },
  {
   "cell_type": "markdown",
   "metadata": {},
   "source": [
    "## Brute Force Method\n",
    "\n",
    "** In case you aren't given the shift factor number, create a function that prints out every possible shifted string given an encrypted string. **"
   ]
  },
  {
   "cell_type": "code",
   "execution_count": 5,
   "metadata": {},
   "outputs": [],
   "source": [
    "def brute_force(message):\n",
    "    \"\"\"\n",
    "    INPUT: A shifted message\n",
    "    OUTPUT: Prints out every possible shifted message. \n",
    "            One of the printed outputs should be readable.\n",
    "    \"\"\"\n",
    "    \n",
    "    # Use your previous decrypt() method and call it for every possible shift\n",
    "    # using a For Loop.\n",
    "    for counter in range(26):\n",
    "        print (decrypt(message,counter))\n",
    "    # Print out the result of each shift."
   ]
  },
  {
   "cell_type": "markdown",
   "metadata": {},
   "source": [
    "** An example output: **"
   ]
  },
  {
   "cell_type": "code",
   "execution_count": 6,
   "metadata": {},
   "outputs": [
    {
     "name": "stdout",
     "output_type": "stream",
     "text": [
      "uryyb rneguyvatf, guvf vf sebz n sevraqyl cynarg va naqebzrqn\n",
      "tqxxa qmdftxuzse, ftue ue rday m rduqzpxk bxmzqf uz mzpdayqpm\n",
      "spwwz plceswtyrd, estd td qczx l qctpyowj awlype ty lyoczxpol\n",
      "rovvy okbdrvsxqc, drsc sc pbyw k pbsoxnvi zvkxod sx kxnbywonk\n",
      "qnuux njacqurwpb, cqrb rb oaxv j oarnwmuh yujwnc rw jwmaxvnmj\n",
      "pmttw mizbptqvoa, bpqa qa nzwu i nzqmvltg xtivmb qv ivlzwumli\n",
      "olssv lhyaospunz, aopz pz myvt h mypluksf wshula pu hukyvtlkh\n",
      "nkrru kgxznrotmy, znoy oy lxus g lxoktjre vrgtkz ot gtjxuskjg\n",
      "mjqqt jfwymqnslx, ymnx nx kwtr f kwnjsiqd uqfsjy ns fsiwtrjif\n",
      "lipps ievxlpmrkw, xlmw mw jvsq e jvmirhpc tperix mr erhvsqihe\n",
      "khoor hduwkolqjv, wklv lv iurp d iulhqgob sodqhw lq dqgurphgd\n",
      "jgnnq gctvjnkpiu, vjku ku htqo c htkgpfna rncpgv kp cpftqogfc\n",
      "ifmmp fbsuimjoht, uijt jt gspn b gsjfoemz qmbofu jo boespnfeb\n",
      "hello earthlings, this is from a friendly planet in andromeda\n",
      "gdkkn dzqsgkhmfr, sghr hr eqnl z eqhdmckx okzmds hm zmcqnldcz\n",
      "fcjjm cyprfjgleq, rfgq gq dpmk y dpgclbjw njylcr gl ylbpmkcby\n",
      "ebiil bxoqeifkdp, qefp fp colj x cofbkaiv mixkbq fk xkaoljbax\n",
      "dahhk awnpdhejco, pdeo eo bnki w bneajzhu lhwjap ej wjznkiazw\n",
      "czggj zvmocgdibn, ocdn dn amjh v amdziygt kgvizo di viymjhzyv\n",
      "byffi yulnbfcham, nbcm cm zlig u zlcyhxfs jfuhyn ch uhxligyxu\n",
      "axeeh xtkmaebgzl, mabl bl ykhf t ykbxgwer ietgxm bg tgwkhfxwt\n",
      "zwddg wsjlzdafyk, lzak ak xjge s xjawfvdq hdsfwl af sfvjgewvs\n",
      "yvccf vrikyczexj, kyzj zj wifd r wizveucp gcrevk ze reuifdvur\n",
      "xubbe uqhjxbydwi, jxyi yi vhec q vhyudtbo fbqduj yd qdthecutq\n",
      "wtaad tpgiwaxcvh, iwxh xh ugdb p ugxtcsan eapcti xc pcsgdbtsp\n",
      "vszzc sofhvzwbug, hvwg wg tfca o tfwsbrzm dzobsh wb obrfcasro\n"
     ]
    }
   ],
   "source": [
    "brute_force('uryyb rneguyvatf, guvf vf sebz n sevraqyl cynarg va naqebzrqn')"
   ]
  },
  {
   "cell_type": "code",
   "execution_count": null,
   "metadata": {},
   "outputs": [],
   "source": []
  }
 ],
 "metadata": {
  "kernelspec": {
   "display_name": "Python 3",
   "language": "python",
   "name": "python3"
  },
  "language_info": {
   "codemirror_mode": {
    "name": "ipython",
    "version": 3
   },
   "file_extension": ".py",
   "mimetype": "text/x-python",
   "name": "python",
   "nbconvert_exporter": "python",
   "pygments_lexer": "ipython3",
   "version": "3.6.5"
  }
 },
 "nbformat": 4,
 "nbformat_minor": 2
}
