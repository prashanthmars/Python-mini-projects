{
 "cells": [
  {
   "cell_type": "markdown",
   "metadata": {},
   "source": [
    "## Collatz Conjecture - Start with a number n > 1. Find the number of steps it takes to reach one using the following process: If n is even, divide it by 2. If n is odd, multiply it by 3 and add 1."
   ]
  },
  {
   "cell_type": "code",
   "execution_count": 43,
   "metadata": {},
   "outputs": [],
   "source": [
    "def collatz(x):\n",
    "    original_input=x\n",
    "    steps=0\n",
    "    while True:\n",
    "        if x%2==0:\n",
    "            steps+=x//2\n",
    "            break\n",
    "        else:\n",
    "            x=x*3+1\n",
    "            steps+=1\n",
    "    return f\"The nos of steps taken for the number {original_input} is {steps} steps\""
   ]
  },
  {
   "cell_type": "code",
   "execution_count": 45,
   "metadata": {},
   "outputs": [
    {
     "data": {
      "text/plain": [
       "['The nos of steps taken for the number 1 is 3 steps',\n",
       " 'The nos of steps taken for the number 2 is 1 steps',\n",
       " 'The nos of steps taken for the number 3 is 6 steps',\n",
       " 'The nos of steps taken for the number 4 is 2 steps',\n",
       " 'The nos of steps taken for the number 5 is 9 steps',\n",
       " 'The nos of steps taken for the number 6 is 3 steps',\n",
       " 'The nos of steps taken for the number 7 is 12 steps',\n",
       " 'The nos of steps taken for the number 8 is 4 steps',\n",
       " 'The nos of steps taken for the number 9 is 15 steps']"
      ]
     },
     "execution_count": 45,
     "metadata": {},
     "output_type": "execute_result"
    }
   ],
   "source": [
    "list(map(collatz,range(1,10)))"
   ]
  },
  {
   "cell_type": "code",
   "execution_count": null,
   "metadata": {},
   "outputs": [],
   "source": []
  }
 ],
 "metadata": {
  "kernelspec": {
   "display_name": "Python 3",
   "language": "python",
   "name": "python3"
  },
  "language_info": {
   "codemirror_mode": {
    "name": "ipython",
    "version": 3
   },
   "file_extension": ".py",
   "mimetype": "text/x-python",
   "name": "python",
   "nbconvert_exporter": "python",
   "pygments_lexer": "ipython3",
   "version": "3.6.5"
  }
 },
 "nbformat": 4,
 "nbformat_minor": 2
}
