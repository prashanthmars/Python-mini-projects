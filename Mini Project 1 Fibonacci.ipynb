{
 "cells": [
  {
   "cell_type": "markdown",
   "metadata": {},
   "source": [
    "# Fibonacci Sequence - Enter a number and have the program generate the Fibonacci sequence to that number or to the Nth number."
   ]
  },
  {
   "cell_type": "code",
   "execution_count": 30,
   "metadata": {},
   "outputs": [
    {
     "name": "stdout",
     "output_type": "stream",
     "text": [
      "enter a number greater than 24\n",
      "\n",
      "\n",
      "4\n",
      "\n",
      "\n",
      "2\n",
      "3\n",
      "[1, 1, 2, 3]\n"
     ]
    }
   ],
   "source": [
    "inputnos=int(input(\"enter a number greater than 2\"))\n",
    "print(\"\\n\")\n",
    "print(inputnos)\n",
    "print(\"\\n\")\n",
    "\n",
    "fib=[1,1]\n",
    "for counter in range(2,inputnos):\n",
    "    print(counter)\n",
    "    fib.append(fib[counter-2]+fib[counter-1])\n",
    "print(fib)"
   ]
  },
  {
   "cell_type": "code",
   "execution_count": 35,
   "metadata": {},
   "outputs": [
    {
     "name": "stdout",
     "output_type": "stream",
     "text": [
      "enter a number greater than 1100\n",
      "100\n",
      "\n",
      "\n",
      "1\n",
      "2\n",
      "3\n",
      "4\n",
      "5\n",
      "6\n",
      "7\n",
      "8\n",
      "9\n",
      "10\n",
      "11\n",
      "[1, 1, 2, 3, 5, 8, 13, 21, 34, 55, 89]\n"
     ]
    }
   ],
   "source": [
    "inputnos=int(input(\"enter a number greater than 1\"))\n",
    "print(inputnos)\n",
    "print(\"\\n\")\n",
    "\n",
    "fib=[1,1]\n",
    "counter=2\n",
    "temp=1\n",
    "print(fib[-1])\n",
    "while temp<inputnos:\n",
    "    print(counter)\n",
    "    temp=fib[counter-2]+fib[counter-1]\n",
    "    if(temp<inputnos):\n",
    "        fib.append(temp)\n",
    "    counter+=1\n",
    "print(fib)"
   ]
  },
  {
   "cell_type": "code",
   "execution_count": null,
   "metadata": {},
   "outputs": [],
   "source": []
  },
  {
   "cell_type": "code",
   "execution_count": null,
   "metadata": {},
   "outputs": [],
   "source": []
  }
 ],
 "metadata": {
  "kernelspec": {
   "display_name": "Python 3",
   "language": "python",
   "name": "python3"
  },
  "language_info": {
   "codemirror_mode": {
    "name": "ipython",
    "version": 3
   },
   "file_extension": ".py",
   "mimetype": "text/x-python",
   "name": "python",
   "nbconvert_exporter": "python",
   "pygments_lexer": "ipython3",
   "version": "3.6.5"
  }
 },
 "nbformat": 4,
 "nbformat_minor": 2
}
