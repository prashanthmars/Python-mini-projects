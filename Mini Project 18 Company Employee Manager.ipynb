{
 "cells": [
  {
   "cell_type": "markdown",
   "metadata": {},
   "source": [
    "## Company Manager\n",
    "\n",
    "Create an hierarchy of classes - abstract class Employee and subclasses HourlyEmployee, SalariedEmployee, Manager and Executive. \n",
    "\n",
    "After you've established an employee hierarchy, create a Company class that allows you to manage the employees. You should be able to hire, fire and raise employees. "
   ]
  },
  {
   "cell_type": "code",
   "execution_count": 157,
   "metadata": {},
   "outputs": [],
   "source": [
    "class Employee():\n",
    "    def __init__(self,id,fname,lname):\n",
    "        self.id=id\n",
    "        self.fname=fname\n",
    "        self.lname=lname\n",
    "        self.pay=0\n",
    "    \n",
    "    def __str__(self):\n",
    "        return(f\"Info of the employee\\nEmp ID: {self.id} {self.fname} {self.lname}\")\n",
    "        \n",
    "class HourlyEmployee(Employee):\n",
    "    def __init__(self,id,fname,lname,hourlyrate=90):\n",
    "        Employee.__init__(self,id,fname,lname)\n",
    "        self.employeetype='hourly'\n",
    "        self.payrate=hourlyrate\n",
    "    def calculate_pay(self,hoursworked=160):\n",
    "        self.pay=self.payrate*hoursworked\n",
    "        return self.pay\n",
    "    \n",
    "class SalariedEmployee(Employee):\n",
    "    def __init__(self,id,fname,lname,ctcperannum=90000):\n",
    "        Employee.__init__(self,id,fname,lname)\n",
    "        self.employeetype='salaried'\n",
    "        self.payscale=ctcperannum\n",
    "    def calculate_pay(self):\n",
    "        self.pay=round(self.payscale/12,2)\n",
    "        return self.pay\n",
    "    \n",
    "class Manager(Employee):\n",
    "    def __init__(self,id,fname,lname,ctcperannum=90000,performancebonus=10000):\n",
    "        Employee.__init__(self,id,fname,lname)\n",
    "        self.employeetype='salaried'\n",
    "        self.payscale=ctcperannum\n",
    "        self.performancebonus=performancebonus\n",
    "    \n",
    "    #performance pay calculation can be enhanced for a usual quarterly performance\n",
    "    def calculate_pay(self,monthlyperformance=1.00):\n",
    "        self.pay=round(self.payscale/12,2)+round(self.performancebonus*monthlyperformance/12,2)\n",
    "        return self.pay\n",
    "    \n",
    "class Executive(Employee):\n",
    "    def __init__(self,id,fname,lname,ctcperannum=110000,performancebonus=20000,esop=10000):\n",
    "        Employee.__init__(self,id,fname,lname)\n",
    "        self.employeetype='executive'\n",
    "        self.payscale=ctcperannum\n",
    "        self.performancebonus=performancebonus\n",
    "        self.esop=esop\n",
    "    \n",
    "    #performance pay calculation can be enhanced for a usual quarterly performance\n",
    "    def calculate_pay(self,monthlyperformance=1.00):\n",
    "        self.pay=round(self.payscale/12,2)+round(self.performancebonus*monthlyperformance/12,2)\n",
    "        #Include esop calculations also in subsequent versions beyond this basic module\n",
    "        return self.pay\n",
    "    \n",
    "\n",
    "class Company():\n",
    "    def __init__(self,companyname):\n",
    "        self.companyname=companyname\n",
    "        self.employeelist=[]\n",
    "     \n",
    "    def __str__(self):\n",
    "        return (' '.join(self.employeelist))\n",
    "    \n",
    "    def addemployee(self,employee):\n",
    "        self.employeelist.append(employee)\n",
    "        return(self.employeelist)\n",
    "    \n",
    "    def fireemployee(self,employee):\n",
    "        self.employeelist.remove(employee)\n",
    "        return self.employeelist\n",
    "    \n",
    "    "
   ]
  },
  {
   "cell_type": "code",
   "execution_count": 158,
   "metadata": {},
   "outputs": [
    {
     "name": "stdout",
     "output_type": "stream",
     "text": [
      "Info of the employee\n",
      "Emp ID: 123 John Doe\n"
     ]
    },
    {
     "data": {
      "text/plain": [
       "12800"
      ]
     },
     "execution_count": 158,
     "metadata": {},
     "output_type": "execute_result"
    }
   ],
   "source": [
    "e123=HourlyEmployee(123,'John','Doe',80)\n",
    "print(f\"Info of the employee\\nEmp ID: {e123.id} {e123.fname} {e123.lname}\")\n",
    "e123.calculate_pay()"
   ]
  },
  {
   "cell_type": "code",
   "execution_count": 159,
   "metadata": {},
   "outputs": [
    {
     "name": "stdout",
     "output_type": "stream",
     "text": [
      "Info of the employee\n",
      "Emp ID: 124 Robinson Crusoe\n"
     ]
    },
    {
     "data": {
      "text/plain": [
       "7666.67"
      ]
     },
     "execution_count": 159,
     "metadata": {},
     "output_type": "execute_result"
    }
   ],
   "source": [
    "e124=SalariedEmployee(124,'Robinson','Crusoe',92000)\n",
    "print(f\"Info of the employee\\nEmp ID: {e124.id} {e124.fname} {e124.lname}\")\n",
    "e124.calculate_pay()"
   ]
  },
  {
   "cell_type": "code",
   "execution_count": 160,
   "metadata": {},
   "outputs": [
    {
     "name": "stdout",
     "output_type": "stream",
     "text": [
      "Info of the employee\n",
      "Emp ID: 125 Peta King\n"
     ]
    },
    {
     "data": {
      "text/plain": [
       "11200.0"
      ]
     },
     "execution_count": 160,
     "metadata": {},
     "output_type": "execute_result"
    }
   ],
   "source": [
    "e125=Manager(125,'Peta','King',120000,12000)\n",
    "print(f\"Info of the employee\\nEmp ID: {e125.id} {e125.fname} {e125.lname}\")\n",
    "e125.calculate_pay(1.20)"
   ]
  },
  {
   "cell_type": "code",
   "execution_count": 161,
   "metadata": {},
   "outputs": [
    {
     "name": "stdout",
     "output_type": "stream",
     "text": [
      "Info of the employee\n",
      "Emp ID: 126 Clive Lloyd\n",
      "Info of the employee\n",
      "Emp ID: 126 Clive Lloyd\n"
     ]
    }
   ],
   "source": [
    "e126=Executive(126,'Clive','Lloyd',150000,20000,20000)\n",
    "print(f\"Info of the employee\\nEmp ID: {e126.id} {e126.fname} {e126.lname}\")\n",
    "e126.calculate_pay(1.20)\n",
    "print(e126)"
   ]
  },
  {
   "cell_type": "code",
   "execution_count": 162,
   "metadata": {},
   "outputs": [
    {
     "data": {
      "text/plain": [
       "'Acme Industry'"
      ]
     },
     "execution_count": 162,
     "metadata": {},
     "output_type": "execute_result"
    }
   ],
   "source": [
    "acmeindustry=Company('Acme Industry')\n",
    "acmeindustry.companyname"
   ]
  },
  {
   "cell_type": "code",
   "execution_count": 166,
   "metadata": {},
   "outputs": [
    {
     "data": {
      "text/plain": [
       "[<__main__.Executive at 0x2395a40f780>,\n",
       " <__main__.Executive at 0x2395a40f780>,\n",
       " <__main__.Executive at 0x2395a40f780>,\n",
       " <__main__.Manager at 0x2395a3f9240>,\n",
       " <__main__.SalariedEmployee at 0x2395a3f96a0>]"
      ]
     },
     "execution_count": 166,
     "metadata": {},
     "output_type": "execute_result"
    }
   ],
   "source": [
    "acmeindustry.addemployee(e126)\n",
    "acmeindustry.addemployee(e125)\n",
    "acmeindustry.addemployee(e124)\n",
    "acmeindustry.employeelist"
   ]
  },
  {
   "cell_type": "code",
   "execution_count": 167,
   "metadata": {},
   "outputs": [
    {
     "data": {
      "text/plain": [
       "[<__main__.Executive at 0x2395a40f780>,\n",
       " <__main__.Executive at 0x2395a40f780>,\n",
       " <__main__.Executive at 0x2395a40f780>,\n",
       " <__main__.Manager at 0x2395a3f9240>]"
      ]
     },
     "execution_count": 167,
     "metadata": {},
     "output_type": "execute_result"
    }
   ],
   "source": [
    "acmeindustry.fireemployee(e124)\n",
    "acmeindustry.employeelist"
   ]
  },
  {
   "cell_type": "code",
   "execution_count": null,
   "metadata": {},
   "outputs": [],
   "source": []
  },
  {
   "cell_type": "code",
   "execution_count": null,
   "metadata": {},
   "outputs": [],
   "source": []
  }
 ],
 "metadata": {
  "kernelspec": {
   "display_name": "Python 3",
   "language": "python",
   "name": "python3"
  },
  "language_info": {
   "codemirror_mode": {
    "name": "ipython",
    "version": 3
   },
   "file_extension": ".py",
   "mimetype": "text/x-python",
   "name": "python",
   "nbconvert_exporter": "python",
   "pygments_lexer": "ipython3",
   "version": "3.6.5"
  }
 },
 "nbformat": 4,
 "nbformat_minor": 2
}
