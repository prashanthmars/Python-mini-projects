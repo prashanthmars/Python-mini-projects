{
 "cells": [
  {
   "cell_type": "markdown",
   "metadata": {},
   "source": [
    "## Sorting - Implement two types of sorting algorithms: Merge sort"
   ]
  },
  {
   "cell_type": "code",
   "execution_count": 36,
   "metadata": {},
   "outputs": [],
   "source": [
    "def bubblesort(inputnumbers):\n",
    "    finaloutput=inputnumbers\n",
    "    prevoutput=[]\n",
    "    while prevoutput!=finaloutput:\n",
    "        prevoutput=finaloutput\n",
    "        for counter in range(len(inputnumbers)-1):\n",
    "            if finaloutput[counter]<finaloutput[counter+1]:\n",
    "                next\n",
    "            else:\n",
    "                finaloutput[counter],finaloutput[counter+1]=finaloutput[counter+1],finaloutput[counter]\n",
    "    return(finaloutput)"
   ]
  },
  {
   "cell_type": "code",
   "execution_count": 38,
   "metadata": {},
   "outputs": [
    {
     "name": "stdout",
     "output_type": "stream",
     "text": [
      "[73, 88, 36, 82, 5, 7, 77, 64, 15, 47, 91, 82, 73, 23, 97, 4, 45, 30]\n",
      "[73, 36, 82, 5, 7, 77, 64, 15, 47, 88, 82, 73, 23, 91, 4, 45, 30, 97]\n",
      "[4, 5, 7, 15, 23, 30, 36, 45, 47, 64, 73, 73, 77, 82, 82, 88, 91, 97]\n",
      "True\n",
      "[12, 38, 50, 59]\n",
      "[12, 38, 50, 59]\n",
      "[12, 38, 50, 59]\n",
      "True\n",
      "[68, 83, 94]\n",
      "[68, 83, 94]\n",
      "[68, 83, 94]\n",
      "True\n",
      "[58, 57, 4]\n",
      "[57, 4, 58]\n",
      "[4, 57, 58]\n",
      "True\n",
      "[32, 34]\n",
      "[32, 34]\n",
      "[32, 34]\n",
      "True\n",
      "[37, 82, 75, 6, 99, 93, 28, 92, 96, 65, 60, 17, 70, 24, 6, 60, 36, 95, 60, 15]\n",
      "[37, 75, 6, 82, 93, 28, 92, 96, 65, 60, 17, 70, 24, 6, 60, 36, 95, 60, 15, 99]\n",
      "[6, 6, 15, 17, 24, 28, 36, 37, 60, 60, 60, 65, 70, 75, 82, 92, 93, 95, 96, 99]\n",
      "True\n",
      "[55, 33, 44, 90]\n",
      "[33, 44, 55, 90]\n",
      "[33, 44, 55, 90]\n",
      "True\n",
      "[96, 38, 41, 93, 16, 96, 75, 89, 72, 29, 43, 68, 75, 100, 67, 57, 26, 75]\n",
      "[38, 41, 93, 16, 96, 75, 89, 72, 29, 43, 68, 75, 96, 67, 57, 26, 75, 100]\n",
      "[16, 26, 29, 38, 41, 43, 57, 67, 68, 72, 75, 75, 75, 89, 93, 96, 96, 100]\n",
      "True\n",
      "[18, 23, 23, 86]\n",
      "[18, 23, 23, 86]\n",
      "[18, 23, 23, 86]\n",
      "True\n",
      "[27, 4, 17, 53]\n",
      "[4, 17, 27, 53]\n",
      "[4, 17, 27, 53]\n",
      "True\n"
     ]
    }
   ],
   "source": [
    "#Testing the merge sort\n",
    "import random as rnd\n",
    "\n",
    "for counter in range(10):\n",
    "    rnd.randint(1,100)\n",
    "    testinput=[rnd.randint(1,100) for x in range(rnd.randint(1,20))]\n",
    "    print(testinput)\n",
    "    test_output=bubblesort(testinput)\n",
    "    print(test_output)\n",
    "    expected_output=testinput\n",
    "    expected_output.sort()\n",
    "    print(expected_output)\n",
    "    print(test_output==expected_output)"
   ]
  },
  {
   "cell_type": "code",
   "execution_count": null,
   "metadata": {},
   "outputs": [],
   "source": []
  },
  {
   "cell_type": "code",
   "execution_count": null,
   "metadata": {},
   "outputs": [],
   "source": []
  }
 ],
 "metadata": {
  "kernelspec": {
   "display_name": "Python 3",
   "language": "python",
   "name": "python3"
  },
  "language_info": {
   "codemirror_mode": {
    "name": "ipython",
    "version": 3
   },
   "file_extension": ".py",
   "mimetype": "text/x-python",
   "name": "python",
   "nbconvert_exporter": "python",
   "pygments_lexer": "ipython3",
   "version": "3.6.5"
  }
 },
 "nbformat": 4,
 "nbformat_minor": 2
}
