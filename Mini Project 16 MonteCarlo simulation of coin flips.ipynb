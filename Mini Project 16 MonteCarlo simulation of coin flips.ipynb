{
 "cells": [
  {
   "cell_type": "markdown",
   "metadata": {},
   "source": [
    "## Coin Flip Simulation - Write some code that simulates flipping a single coin however many times the user decides. The code should record the outcomes and count the number of tails and heads."
   ]
  },
  {
   "cell_type": "code",
   "execution_count": 16,
   "metadata": {},
   "outputs": [],
   "source": [
    "def montecarlo_coins(coinflips=100):\n",
    "    import random\n",
    "    events=['heads','tails']\n",
    "    evenoutcomes={'heads':0,'tails':0}\n",
    "\n",
    "    for i in range(coinflips):\n",
    "        evenoutcomes[random.choice(events)]+=1\n",
    "\n",
    "    print (evenoutcomes)"
   ]
  },
  {
   "cell_type": "code",
   "execution_count": 20,
   "metadata": {},
   "outputs": [
    {
     "name": "stdout",
     "output_type": "stream",
     "text": [
      "{'heads': 1, 'tails': 0}\n",
      "{'heads': 4, 'tails': 6}\n",
      "{'heads': 62, 'tails': 38}\n",
      "{'heads': 517, 'tails': 483}\n",
      "{'heads': 5036, 'tails': 4964}\n",
      "{'heads': 49829, 'tails': 50171}\n"
     ]
    }
   ],
   "source": [
    "montecarlo_coins(1)\n",
    "montecarlo_coins(10)\n",
    "montecarlo_coins(100)\n",
    "montecarlo_coins(1000)\n",
    "montecarlo_coins(10000)\n",
    "montecarlo_coins(100000)"
   ]
  },
  {
   "cell_type": "code",
   "execution_count": null,
   "metadata": {},
   "outputs": [],
   "source": []
  }
 ],
 "metadata": {
  "kernelspec": {
   "display_name": "Python 3",
   "language": "python",
   "name": "python3"
  },
  "language_info": {
   "codemirror_mode": {
    "name": "ipython",
    "version": 3
   },
   "file_extension": ".py",
   "mimetype": "text/x-python",
   "name": "python",
   "nbconvert_exporter": "python",
   "pygments_lexer": "ipython3",
   "version": "3.6.5"
  }
 },
 "nbformat": 4,
 "nbformat_minor": 2
}
