{
 "cells": [
  {
   "cell_type": "markdown",
   "metadata": {},
   "source": [
    "## Alarm Clock - A simple clock where it plays a sound after X number of minutes/seconds or at a particular time."
   ]
  },
  {
   "cell_type": "code",
   "execution_count": 13,
   "metadata": {
    "scrolled": false
   },
   "outputs": [
    {
     "name": "stdout",
     "output_type": "stream",
     "text": [
      "Enter the nos of seconds after which the alarm should get triggered\n",
      "3\n",
      "alarm buzzing: Press 's' to STOP IT\n",
      "You Pressed A Key!\n"
     ]
    }
   ],
   "source": [
    "import time as time\n",
    "from playsound import playsound\n",
    "import keyboard as keyboard\n",
    "\n",
    "#get user input\n",
    "#can be enhanced to get the units in min, hours or seconds and transform accordingly into seconds\n",
    "#Can be enhanced to play once the specific time is reached. Need to import date.time library for that.\n",
    "counter=int(input(\"Enter the nos of seconds after which the alarm should get triggered\\n\"))\n",
    "\n",
    "while counter>0:\n",
    "    time.sleep(1)\n",
    "    counter=counter-1\n",
    "\n",
    "while True:\n",
    "    try:\n",
    "        #if key 'S' is pressed \n",
    "        if keyboard.is_pressed('s'):\n",
    "            print('You Pressed A Key!')\n",
    "            break  # finishing the loops\n",
    "        else:\n",
    "            playsound('alarmmusic.mp3')\n",
    "            print(\"alarm buzzing: Press 's' to STOP IT\")\n",
    "            time.sleep(5)\n",
    "    except:\n",
    "        break\n",
    "\n"
   ]
  },
  {
   "cell_type": "code",
   "execution_count": null,
   "metadata": {},
   "outputs": [],
   "source": [
    "\n"
   ]
  }
 ],
 "metadata": {
  "kernelspec": {
   "display_name": "Python 3",
   "language": "python",
   "name": "python3"
  },
  "language_info": {
   "codemirror_mode": {
    "name": "ipython",
    "version": 3
   },
   "file_extension": ".py",
   "mimetype": "text/x-python",
   "name": "python",
   "nbconvert_exporter": "python",
   "pygments_lexer": "ipython3",
   "version": "3.6.5"
  }
 },
 "nbformat": 4,
 "nbformat_minor": 2
}
