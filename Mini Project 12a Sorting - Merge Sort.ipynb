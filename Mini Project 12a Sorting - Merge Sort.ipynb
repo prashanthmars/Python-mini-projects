{
 "cells": [
  {
   "cell_type": "markdown",
   "metadata": {},
   "source": [
    "## Sorting - Implement two types of sorting algorithms: Merge sort"
   ]
  },
  {
   "cell_type": "code",
   "execution_count": 98,
   "metadata": {},
   "outputs": [],
   "source": [
    "def mergesort(inputnumbers):\n",
    "    if len(inputnumbers)<=2:\n",
    "        if len(inputnumbers)==1:\n",
    "            return inputnumbers\n",
    "        else:\n",
    "            if (inputnumbers[0]<=inputnumbers[1]):\n",
    "                return inputnumbers\n",
    "            else:\n",
    "                return [inputnumbers[1],inputnumbers[0]]\n",
    "    else:\n",
    "        input_left=inputnumbers[0:len(inputnumbers)//2]\n",
    "        input_right=inputnumbers[len(inputnumbers)//2:]\n",
    "        \n",
    "        output_left=mergesort(input_left)\n",
    "        \n",
    "        output_right=mergesort(input_right)\n",
    "        \n",
    "        leftcounter=0\n",
    "        rightcounter=0\n",
    "        finaloutput=[]\n",
    "        \n",
    "        while(leftcounter<len(output_left) and rightcounter<len(output_right)):\n",
    "            if output_left[leftcounter]<=output_right[rightcounter]:\n",
    "                finaloutput.append(output_left[leftcounter])\n",
    "                leftcounter+=1\n",
    "            else:\n",
    "                finaloutput.append(output_right[rightcounter])\n",
    "                rightcounter+=1\n",
    "        \n",
    "        while(leftcounter<len(output_left)):\n",
    "            finaloutput.append(output_left[leftcounter])\n",
    "            leftcounter+=1\n",
    "        \n",
    "        while(rightcounter<len(output_right)):\n",
    "            finaloutput.append(output_right[rightcounter])\n",
    "            rightcounter+=1\n",
    "        \n",
    "        return(finaloutput)"
   ]
  },
  {
   "cell_type": "code",
   "execution_count": 99,
   "metadata": {},
   "outputs": [
    {
     "name": "stdout",
     "output_type": "stream",
     "text": [
      "[16, 2]\n",
      "[2, 16]\n",
      "[2, 16]\n",
      "True\n",
      "[49, 79, 85, 1, 20, 30, 59, 86, 98, 74, 30, 80, 85, 27]\n",
      "[1, 20, 27, 30, 30, 49, 59, 74, 79, 80, 85, 85, 86, 98]\n",
      "[1, 20, 27, 30, 30, 49, 59, 74, 79, 80, 85, 85, 86, 98]\n",
      "True\n",
      "[15, 42, 22, 30, 46, 42, 39, 17, 1, 81, 16]\n",
      "[1, 15, 16, 17, 22, 30, 39, 42, 42, 46, 81]\n",
      "[1, 15, 16, 17, 22, 30, 39, 42, 42, 46, 81]\n",
      "True\n",
      "[49, 20, 44, 36, 23, 83, 42, 98, 53, 8]\n",
      "[8, 20, 23, 36, 42, 44, 49, 53, 83, 98]\n",
      "[8, 20, 23, 36, 42, 44, 49, 53, 83, 98]\n",
      "True\n",
      "[75, 49, 68, 61, 6, 55, 52, 3, 84, 63, 84, 5, 67, 49, 49, 74, 56, 100]\n",
      "[3, 5, 6, 49, 49, 49, 52, 55, 56, 61, 63, 67, 68, 74, 75, 84, 84, 100]\n",
      "[3, 5, 6, 49, 49, 49, 52, 55, 56, 61, 63, 67, 68, 74, 75, 84, 84, 100]\n",
      "True\n",
      "[54, 61, 81, 26, 75, 52, 16, 3, 26, 63, 3, 34, 14, 95, 43, 67, 63, 47]\n",
      "[3, 3, 14, 16, 26, 26, 34, 43, 47, 52, 54, 61, 63, 63, 67, 75, 81, 95]\n",
      "[3, 3, 14, 16, 26, 26, 34, 43, 47, 52, 54, 61, 63, 63, 67, 75, 81, 95]\n",
      "True\n",
      "[73, 23, 18, 7, 4, 65, 31, 8, 74, 80, 79, 54, 49, 14, 75, 83, 71, 78, 23, 29]\n",
      "[4, 7, 8, 14, 18, 23, 23, 29, 31, 49, 54, 65, 71, 73, 74, 75, 78, 79, 80, 83]\n",
      "[4, 7, 8, 14, 18, 23, 23, 29, 31, 49, 54, 65, 71, 73, 74, 75, 78, 79, 80, 83]\n",
      "True\n",
      "[99, 89, 70, 68, 89, 73, 65, 89, 17]\n",
      "[17, 65, 68, 70, 73, 89, 89, 89, 99]\n",
      "[17, 65, 68, 70, 73, 89, 89, 89, 99]\n",
      "True\n",
      "[5, 48, 78, 78, 98, 45, 64, 83]\n",
      "[5, 45, 48, 64, 78, 78, 83, 98]\n",
      "[5, 45, 48, 64, 78, 78, 83, 98]\n",
      "True\n",
      "[75, 17, 98, 11, 62, 83, 78, 6, 83, 47]\n",
      "[6, 11, 17, 47, 62, 75, 78, 83, 83, 98]\n",
      "[6, 11, 17, 47, 62, 75, 78, 83, 83, 98]\n",
      "True\n"
     ]
    }
   ],
   "source": [
    "#Testing the merge sort\n",
    "import random as rnd\n",
    "\n",
    "for counter in range(10):\n",
    "    rnd.randint(1,100)\n",
    "    testinput=[rnd.randint(1,100) for x in range(rnd.randint(1,20))]\n",
    "    print(testinput)\n",
    "    test_output=mergesort(testinput)\n",
    "    print(test_output)\n",
    "    expected_output=testinput\n",
    "    expected_output.sort()\n",
    "    print(expected_output)\n",
    "    print(test_output==expected_output)"
   ]
  },
  {
   "cell_type": "code",
   "execution_count": null,
   "metadata": {},
   "outputs": [],
   "source": []
  },
  {
   "cell_type": "code",
   "execution_count": null,
   "metadata": {},
   "outputs": [],
   "source": []
  }
 ],
 "metadata": {
  "kernelspec": {
   "display_name": "Python 3",
   "language": "python",
   "name": "python3"
  },
  "language_info": {
   "codemirror_mode": {
    "name": "ipython",
    "version": 3
   },
   "file_extension": ".py",
   "mimetype": "text/x-python",
   "name": "python",
   "nbconvert_exporter": "python",
   "pygments_lexer": "ipython3",
   "version": "3.6.5"
  }
 },
 "nbformat": 4,
 "nbformat_minor": 2
}
