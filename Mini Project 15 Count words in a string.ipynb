{
 "cells": [
  {
   "cell_type": "markdown",
   "metadata": {},
   "source": [
    "## Count Words in a String - Counts the number of individual words in a string. For added complexity read these strings in from a text file and generate a summary."
   ]
  },
  {
   "cell_type": "code",
   "execution_count": 9,
   "metadata": {},
   "outputs": [],
   "source": [
    "def wordcounter(inputsentence=\"\"):\n",
    "    inputsentence_split=inputsentence.split()\n",
    "    inputsentence_split\n",
    "    inputsentence_set=set(inputsentence_split)\n",
    "    return {x:inputsentence_split.count(x) for x in inputsentence_set}"
   ]
  },
  {
   "cell_type": "code",
   "execution_count": 10,
   "metadata": {},
   "outputs": [
    {
     "data": {
      "text/plain": [
       "{}"
      ]
     },
     "execution_count": 10,
     "metadata": {},
     "output_type": "execute_result"
    }
   ],
   "source": [
    "wordcounter()"
   ]
  },
  {
   "cell_type": "code",
   "execution_count": 12,
   "metadata": {},
   "outputs": [
    {
     "data": {
      "text/plain": [
       "{'and': 1,\n",
       " 'to': 1,\n",
       " 'of': 1,\n",
       " 'bunny': 1,\n",
       " 'lion': 1,\n",
       " 'melody': 1,\n",
       " 'The': 2,\n",
       " 'the': 4,\n",
       " 'source': 1,\n",
       " 'big': 1,\n",
       " 'find': 1,\n",
       " 'angry.': 1,\n",
       " 'hunter': 1,\n",
       " 'in': 1,\n",
       " 'funny': 1,\n",
       " 'this': 1,\n",
       " 'said': 1,\n",
       " 'was': 2,\n",
       " 'forest.': 1,\n",
       " 'tempted': 1,\n",
       " 'song': 1,\n",
       " 'also': 1,\n",
       " 'heard': 1,\n",
       " 'la,': 1,\n",
       " 'la': 3}"
      ]
     },
     "execution_count": 12,
     "metadata": {},
     "output_type": "execute_result"
    }
   ],
   "source": [
    "wordcounter(\"la la la la, said the funny bunny in the big forest. The lion was angry.\\nThe hunter also heard the song and was tempted to find the source of this melody\")"
   ]
  },
  {
   "cell_type": "markdown",
   "metadata": {},
   "source": [
    "Further enhancement can be made to read these off a file. Also cleansing can be done to remove special characters."
   ]
  },
  {
   "cell_type": "code",
   "execution_count": null,
   "metadata": {},
   "outputs": [],
   "source": []
  }
 ],
 "metadata": {
  "kernelspec": {
   "display_name": "Python 3",
   "language": "python",
   "name": "python3"
  },
  "language_info": {
   "codemirror_mode": {
    "name": "ipython",
    "version": 3
   },
   "file_extension": ".py",
   "mimetype": "text/x-python",
   "name": "python",
   "nbconvert_exporter": "python",
   "pygments_lexer": "ipython3",
   "version": "3.6.5"
  }
 },
 "nbformat": 4,
 "nbformat_minor": 2
}
