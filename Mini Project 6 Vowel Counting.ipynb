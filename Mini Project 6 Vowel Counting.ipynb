{
 "cells": [
  {
   "cell_type": "markdown",
   "metadata": {},
   "source": [
    "## Count Vowels - Enter a string and the program counts the number of vowels in the text. For added complexity have it report a sum of each vowel found."
   ]
  },
  {
   "cell_type": "code",
   "execution_count": 38,
   "metadata": {},
   "outputs": [
    {
     "name": "stdout",
     "output_type": "stream",
     "text": [
      "enter the text. I will tell you the number of vowels and print a vowel reportthe quick brown fox\n",
      "{'a': 0, 'e': 1, 'i': 1, 'o': 2, 'u': 1}\n"
     ]
    }
   ],
   "source": [
    "vowels={'a':0,'e':0,'i':0,'o':0,'u':0}\n",
    "inputstring=input(\"enter the text. I will tell you the number of vowels and print a vowel report\")\n",
    "inputstring=inputstring.lower()\n",
    "\n",
    "def vowelcounter(vowel,text):\n",
    "    return len([x for x in text if x==vowel])\n",
    "\n",
    "#vowelcounter('z',\"hello americaan\")\n",
    "countdata={vowel:vowelcounter(vowel,inputstring) for vowel in vowels}\n",
    "print(countdata)\n"
   ]
  },
  {
   "cell_type": "code",
   "execution_count": null,
   "metadata": {},
   "outputs": [],
   "source": [
    "\n",
    "\n",
    "\n"
   ]
  },
  {
   "cell_type": "code",
   "execution_count": null,
   "metadata": {},
   "outputs": [],
   "source": []
  }
 ],
 "metadata": {
  "kernelspec": {
   "display_name": "Python 3",
   "language": "python",
   "name": "python3"
  },
  "language_info": {
   "codemirror_mode": {
    "name": "ipython",
    "version": 3
   },
   "file_extension": ".py",
   "mimetype": "text/x-python",
   "name": "python",
   "nbconvert_exporter": "python",
   "pygments_lexer": "ipython3",
   "version": "3.6.5"
  }
 },
 "nbformat": 4,
 "nbformat_minor": 2
}
