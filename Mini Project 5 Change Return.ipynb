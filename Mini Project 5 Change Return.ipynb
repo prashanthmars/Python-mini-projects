{
 "cells": [
  {
   "cell_type": "markdown",
   "metadata": {},
   "source": [
    "## Change Return Program - The user enters a cost and then the amount of money given. The program will figure out the change and the number of quarters, dimes, nickels, pennies needed for the change."
   ]
  },
  {
   "cell_type": "code",
   "execution_count": 22,
   "metadata": {},
   "outputs": [],
   "source": [
    "def cashmanager():\n",
    "    inputcost,inputmoney=input(\"enter the cost and the cash you are handing over separated by a comma\").split(',')\n",
    "    print(inputcost,inputmoney)\n",
    "    balance=float(inputmoney)-float(inputcost)\n",
    "    if(balance<0):\n",
    "        print(\"not enough cash given to cover the bills\")\n",
    "    elif(balance==0):\n",
    "        print(\"thanks for the amount. visit us again\")\n",
    "    else:\n",
    "        print(\"1 Rs Coins: \"+str(round(balance//1))+\"coins\")\n",
    "        balance=balance%1\n",
    "        print(\"50 Ps Coins: \"+str(round(balance%1//0.5))+ \"coins\")\n",
    "        balance=balance%0.5\n",
    "        print(\"25 Ps Coins: \"+str(round(balance%0.5//0.25))+ \"coins\")\n",
    "        balance=balance%0.25\n",
    "        print(\"10 Ps Coins: \"+str(round(balance%0.25//0.10))+ \"coins\")\n",
    "        balance=balance%0.10\n",
    "        print(\"5 Ps Coins: \"+str(round(balance%0.10//0.05))+ \"coins\")\n",
    "        balance=balance%0.05\n",
    "        print(\"1 Ps Coins: \"+str(round(balance%0.05//0.01))+ \"coins\")\n",
    "        balance=balance%0.10\n",
    "    print(\"Transaction Complete\")"
   ]
  },
  {
   "cell_type": "code",
   "execution_count": 24,
   "metadata": {},
   "outputs": [
    {
     "name": "stdout",
     "output_type": "stream",
     "text": [
      "enter the cost and the cash you are handing over separated by a comma3,10.2\n",
      "3 10.2\n",
      "1 Rs Coins: 7coins\n",
      "50 Ps Coins: 0coins\n",
      "25 Ps Coins: 0coins\n",
      "10 Ps Coins: 1coins\n",
      "5 Ps Coins: 1coins\n",
      "1 Ps Coins: 4coins\n",
      "Transaction Complete\n"
     ]
    }
   ],
   "source": [
    "cashmanager()"
   ]
  },
  {
   "cell_type": "code",
   "execution_count": null,
   "metadata": {},
   "outputs": [],
   "source": []
  }
 ],
 "metadata": {
  "kernelspec": {
   "display_name": "Python 3",
   "language": "python",
   "name": "python3"
  },
  "language_info": {
   "codemirror_mode": {
    "name": "ipython",
    "version": 3
   },
   "file_extension": ".py",
   "mimetype": "text/x-python",
   "name": "python",
   "nbconvert_exporter": "python",
   "pygments_lexer": "ipython3",
   "version": "3.6.5"
  }
 },
 "nbformat": 4,
 "nbformat_minor": 2
}
